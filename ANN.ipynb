{
 "cells": [
  {
   "cell_type": "markdown",
   "metadata": {},
   "source": [
    "# Neural network Tuning"
   ]
  },
  {
   "cell_type": "code",
   "execution_count": 1,
   "metadata": {},
   "outputs": [],
   "source": [
    "# Importing necesary packages\n",
    "import numpy\n",
    "import pandas as pd\n",
    "from sklearn.model_selection import GridSearchCV \n",
    "from tensorflow.keras.models import Sequential\n",
    "from tensorflow.keras.layers import Dense\n",
    "import warnings\n",
    "warnings.filterwarnings('ignore')\n",
    "from tensorflow.keras.wrappers.scikit_learn import KerasClassifier"
   ]
  },
  {
   "cell_type": "markdown",
   "metadata": {},
   "source": [
    "# part 1 - Tuning batch and epoch"
   ]
  },
  {
   "cell_type": "code",
   "execution_count": 2,
   "metadata": {},
   "outputs": [],
   "source": [
    "# load the dataset for India diabetes\n",
    "data = pd.read_csv('diabetes.csv')"
   ]
  },
  {
   "cell_type": "code",
   "execution_count": 3,
   "metadata": {},
   "outputs": [
    {
     "data": {
      "text/html": [
       "<div>\n",
       "<style scoped>\n",
       "    .dataframe tbody tr th:only-of-type {\n",
       "        vertical-align: middle;\n",
       "    }\n",
       "\n",
       "    .dataframe tbody tr th {\n",
       "        vertical-align: top;\n",
       "    }\n",
       "\n",
       "    .dataframe thead th {\n",
       "        text-align: right;\n",
       "    }\n",
       "</style>\n",
       "<table border=\"1\" class=\"dataframe\">\n",
       "  <thead>\n",
       "    <tr style=\"text-align: right;\">\n",
       "      <th></th>\n",
       "      <th>Pregnancies</th>\n",
       "      <th>Glucose</th>\n",
       "      <th>BloodPressure</th>\n",
       "      <th>SkinThickness</th>\n",
       "      <th>Insulin</th>\n",
       "      <th>BMI</th>\n",
       "      <th>DiabetesPedigreeFunction</th>\n",
       "      <th>Age</th>\n",
       "      <th>Outcome</th>\n",
       "    </tr>\n",
       "  </thead>\n",
       "  <tbody>\n",
       "    <tr>\n",
       "      <th>count</th>\n",
       "      <td>768.000000</td>\n",
       "      <td>768.000000</td>\n",
       "      <td>768.000000</td>\n",
       "      <td>768.000000</td>\n",
       "      <td>768.000000</td>\n",
       "      <td>768.000000</td>\n",
       "      <td>768.000000</td>\n",
       "      <td>768.000000</td>\n",
       "      <td>768.000000</td>\n",
       "    </tr>\n",
       "    <tr>\n",
       "      <th>mean</th>\n",
       "      <td>3.845052</td>\n",
       "      <td>120.894531</td>\n",
       "      <td>69.105469</td>\n",
       "      <td>20.536458</td>\n",
       "      <td>79.799479</td>\n",
       "      <td>31.992578</td>\n",
       "      <td>0.471876</td>\n",
       "      <td>33.240885</td>\n",
       "      <td>0.348958</td>\n",
       "    </tr>\n",
       "    <tr>\n",
       "      <th>std</th>\n",
       "      <td>3.369578</td>\n",
       "      <td>31.972618</td>\n",
       "      <td>19.355807</td>\n",
       "      <td>15.952218</td>\n",
       "      <td>115.244002</td>\n",
       "      <td>7.884160</td>\n",
       "      <td>0.331329</td>\n",
       "      <td>11.760232</td>\n",
       "      <td>0.476951</td>\n",
       "    </tr>\n",
       "    <tr>\n",
       "      <th>min</th>\n",
       "      <td>0.000000</td>\n",
       "      <td>0.000000</td>\n",
       "      <td>0.000000</td>\n",
       "      <td>0.000000</td>\n",
       "      <td>0.000000</td>\n",
       "      <td>0.000000</td>\n",
       "      <td>0.078000</td>\n",
       "      <td>21.000000</td>\n",
       "      <td>0.000000</td>\n",
       "    </tr>\n",
       "    <tr>\n",
       "      <th>25%</th>\n",
       "      <td>1.000000</td>\n",
       "      <td>99.000000</td>\n",
       "      <td>62.000000</td>\n",
       "      <td>0.000000</td>\n",
       "      <td>0.000000</td>\n",
       "      <td>27.300000</td>\n",
       "      <td>0.243750</td>\n",
       "      <td>24.000000</td>\n",
       "      <td>0.000000</td>\n",
       "    </tr>\n",
       "    <tr>\n",
       "      <th>50%</th>\n",
       "      <td>3.000000</td>\n",
       "      <td>117.000000</td>\n",
       "      <td>72.000000</td>\n",
       "      <td>23.000000</td>\n",
       "      <td>30.500000</td>\n",
       "      <td>32.000000</td>\n",
       "      <td>0.372500</td>\n",
       "      <td>29.000000</td>\n",
       "      <td>0.000000</td>\n",
       "    </tr>\n",
       "    <tr>\n",
       "      <th>75%</th>\n",
       "      <td>6.000000</td>\n",
       "      <td>140.250000</td>\n",
       "      <td>80.000000</td>\n",
       "      <td>32.000000</td>\n",
       "      <td>127.250000</td>\n",
       "      <td>36.600000</td>\n",
       "      <td>0.626250</td>\n",
       "      <td>41.000000</td>\n",
       "      <td>1.000000</td>\n",
       "    </tr>\n",
       "    <tr>\n",
       "      <th>max</th>\n",
       "      <td>17.000000</td>\n",
       "      <td>199.000000</td>\n",
       "      <td>122.000000</td>\n",
       "      <td>99.000000</td>\n",
       "      <td>846.000000</td>\n",
       "      <td>67.100000</td>\n",
       "      <td>2.420000</td>\n",
       "      <td>81.000000</td>\n",
       "      <td>1.000000</td>\n",
       "    </tr>\n",
       "  </tbody>\n",
       "</table>\n",
       "</div>"
      ],
      "text/plain": [
       "       Pregnancies     Glucose  BloodPressure  SkinThickness     Insulin  \\\n",
       "count   768.000000  768.000000     768.000000     768.000000  768.000000   \n",
       "mean      3.845052  120.894531      69.105469      20.536458   79.799479   \n",
       "std       3.369578   31.972618      19.355807      15.952218  115.244002   \n",
       "min       0.000000    0.000000       0.000000       0.000000    0.000000   \n",
       "25%       1.000000   99.000000      62.000000       0.000000    0.000000   \n",
       "50%       3.000000  117.000000      72.000000      23.000000   30.500000   \n",
       "75%       6.000000  140.250000      80.000000      32.000000  127.250000   \n",
       "max      17.000000  199.000000     122.000000      99.000000  846.000000   \n",
       "\n",
       "              BMI  DiabetesPedigreeFunction         Age     Outcome  \n",
       "count  768.000000                768.000000  768.000000  768.000000  \n",
       "mean    31.992578                  0.471876   33.240885    0.348958  \n",
       "std      7.884160                  0.331329   11.760232    0.476951  \n",
       "min      0.000000                  0.078000   21.000000    0.000000  \n",
       "25%     27.300000                  0.243750   24.000000    0.000000  \n",
       "50%     32.000000                  0.372500   29.000000    0.000000  \n",
       "75%     36.600000                  0.626250   41.000000    1.000000  \n",
       "max     67.100000                  2.420000   81.000000    1.000000  "
      ]
     },
     "execution_count": 3,
     "metadata": {},
     "output_type": "execute_result"
    }
   ],
   "source": [
    "data.describe()"
   ]
  },
  {
   "cell_type": "code",
   "execution_count": 5,
   "metadata": {},
   "outputs": [
    {
     "name": "stdout",
     "output_type": "stream",
     "text": [
      "<class 'pandas.core.frame.DataFrame'>\n",
      "RangeIndex: 768 entries, 0 to 767\n",
      "Data columns (total 9 columns):\n",
      " #   Column                    Non-Null Count  Dtype  \n",
      "---  ------                    --------------  -----  \n",
      " 0   Pregnancies               768 non-null    int64  \n",
      " 1   Glucose                   768 non-null    int64  \n",
      " 2   BloodPressure             768 non-null    int64  \n",
      " 3   SkinThickness             768 non-null    int64  \n",
      " 4   Insulin                   768 non-null    int64  \n",
      " 5   BMI                       768 non-null    float64\n",
      " 6   DiabetesPedigreeFunction  768 non-null    float64\n",
      " 7   Age                       768 non-null    int64  \n",
      " 8   Outcome                   768 non-null    int64  \n",
      "dtypes: float64(2), int64(7)\n",
      "memory usage: 54.1 KB\n"
     ]
    }
   ],
   "source": [
    "data.info()"
   ]
  },
  {
   "cell_type": "code",
   "execution_count": 6,
   "metadata": {},
   "outputs": [
    {
     "data": {
      "text/plain": [
       "(768, 9)"
      ]
     },
     "execution_count": 6,
     "metadata": {},
     "output_type": "execute_result"
    }
   ],
   "source": [
    "data.shape"
   ]
  },
  {
   "cell_type": "code",
   "execution_count": 9,
   "metadata": {},
   "outputs": [],
   "source": [
    "# split into predictors and response\n",
    "X = data.iloc[:,0:8] #predictors\n",
    "Y = data.iloc[:,8] #response"
   ]
  },
  {
   "cell_type": "code",
   "execution_count": 10,
   "metadata": {},
   "outputs": [],
   "source": [
    "# Function to create model,for KerasClassifier\n",
    "def create_my_model():\n",
    "    #defining my model\n",
    "    mymodel = Sequential()\n",
    "    mymodel.add(Dense(12, input_dim=8, activation='relu'))\n",
    "    mymodel.add(Dense(1, activation='sigmoid'))\n",
    "    # Compile the model\n",
    "    mymodel.compile(loss='binary_crossentropy', optimizer='adam', metrics=['accuracy'])\n",
    "    return mymodel"
   ]
  },
  {
   "cell_type": "code",
   "execution_count": 11,
   "metadata": {},
   "outputs": [],
   "source": [
    "# create model\n",
    "model = KerasClassifier(build_fn=create_my_model)\n",
    "# define the grid search parameters\n",
    "batchSize = [10, 20, 40, 60, 80, 100]\n",
    "epochs = [10, 30, 50]"
   ]
  },
  {
   "cell_type": "code",
   "execution_count": 14,
   "metadata": {},
   "outputs": [
    {
     "name": "stdout",
     "output_type": "stream",
     "text": [
      "Epoch 1/50\n",
      "39/39 [==============================] - 1s 2ms/step - loss: 7.8191 - accuracy: 0.5312\n",
      "Epoch 2/50\n",
      "39/39 [==============================] - 0s 2ms/step - loss: 2.5434 - accuracy: 0.5885\n",
      "Epoch 3/50\n",
      "39/39 [==============================] - 0s 2ms/step - loss: 1.5423 - accuracy: 0.6094\n",
      "Epoch 4/50\n",
      "39/39 [==============================] - 0s 2ms/step - loss: 1.2944 - accuracy: 0.6341\n",
      "Epoch 5/50\n",
      "39/39 [==============================] - 0s 2ms/step - loss: 1.1279 - accuracy: 0.6341\n",
      "Epoch 6/50\n",
      "39/39 [==============================] - 0s 2ms/step - loss: 0.9823 - accuracy: 0.6719\n",
      "Epoch 7/50\n",
      "39/39 [==============================] - 0s 2ms/step - loss: 0.8727 - accuracy: 0.6680\n",
      "Epoch 8/50\n",
      "39/39 [==============================] - 0s 2ms/step - loss: 0.8133 - accuracy: 0.6810\n",
      "Epoch 9/50\n",
      "39/39 [==============================] - 0s 2ms/step - loss: 0.7975 - accuracy: 0.6641\n",
      "Epoch 10/50\n",
      "39/39 [==============================] - 0s 2ms/step - loss: 0.7789 - accuracy: 0.6797\n",
      "Epoch 11/50\n",
      "39/39 [==============================] - 0s 2ms/step - loss: 0.7585 - accuracy: 0.6849\n",
      "Epoch 12/50\n",
      "39/39 [==============================] - 0s 2ms/step - loss: 0.7402 - accuracy: 0.6823\n",
      "Epoch 13/50\n",
      "39/39 [==============================] - 0s 2ms/step - loss: 0.7267 - accuracy: 0.6901\n",
      "Epoch 14/50\n",
      "39/39 [==============================] - 0s 2ms/step - loss: 0.7231 - accuracy: 0.6862\n",
      "Epoch 15/50\n",
      "39/39 [==============================] - 0s 3ms/step - loss: 0.7044 - accuracy: 0.6862\n",
      "Epoch 16/50\n",
      "39/39 [==============================] - 0s 2ms/step - loss: 0.7068 - accuracy: 0.6862\n",
      "Epoch 17/50\n",
      "39/39 [==============================] - 0s 3ms/step - loss: 0.6969 - accuracy: 0.6940\n",
      "Epoch 18/50\n",
      "39/39 [==============================] - 0s 2ms/step - loss: 0.6991 - accuracy: 0.6641\n",
      "Epoch 19/50\n",
      "39/39 [==============================] - 0s 2ms/step - loss: 0.7007 - accuracy: 0.6719\n",
      "Epoch 20/50\n",
      "39/39 [==============================] - 0s 2ms/step - loss: 0.6779 - accuracy: 0.6966\n",
      "Epoch 21/50\n",
      "39/39 [==============================] - 0s 2ms/step - loss: 0.6710 - accuracy: 0.6914\n",
      "Epoch 22/50\n",
      "39/39 [==============================] - 0s 2ms/step - loss: 0.6636 - accuracy: 0.7005\n",
      "Epoch 23/50\n",
      "39/39 [==============================] - 0s 2ms/step - loss: 0.6508 - accuracy: 0.7070\n",
      "Epoch 24/50\n",
      "39/39 [==============================] - 0s 2ms/step - loss: 0.6430 - accuracy: 0.7083\n",
      "Epoch 25/50\n",
      "39/39 [==============================] - 0s 2ms/step - loss: 0.6365 - accuracy: 0.7096\n",
      "Epoch 26/50\n",
      "39/39 [==============================] - 0s 2ms/step - loss: 0.6419 - accuracy: 0.7044\n",
      "Epoch 27/50\n",
      "39/39 [==============================] - 0s 2ms/step - loss: 0.6408 - accuracy: 0.7044\n",
      "Epoch 28/50\n",
      "39/39 [==============================] - 0s 2ms/step - loss: 0.6437 - accuracy: 0.7109\n",
      "Epoch 29/50\n",
      "39/39 [==============================] - 0s 2ms/step - loss: 0.6424 - accuracy: 0.7057\n",
      "Epoch 30/50\n",
      "39/39 [==============================] - 0s 2ms/step - loss: 0.6455 - accuracy: 0.7044\n",
      "Epoch 31/50\n",
      "39/39 [==============================] - 0s 2ms/step - loss: 0.6370 - accuracy: 0.7018\n",
      "Epoch 32/50\n",
      "39/39 [==============================] - 0s 2ms/step - loss: 0.6242 - accuracy: 0.7005\n",
      "Epoch 33/50\n",
      "39/39 [==============================] - 0s 2ms/step - loss: 0.6228 - accuracy: 0.7083\n",
      "Epoch 34/50\n",
      "39/39 [==============================] - 0s 2ms/step - loss: 0.6279 - accuracy: 0.7005\n",
      "Epoch 35/50\n",
      "39/39 [==============================] - 0s 2ms/step - loss: 0.6145 - accuracy: 0.7188\n",
      "Epoch 36/50\n",
      "39/39 [==============================] - 0s 2ms/step - loss: 0.6187 - accuracy: 0.7148\n",
      "Epoch 37/50\n",
      "39/39 [==============================] - 0s 2ms/step - loss: 0.6662 - accuracy: 0.6693\n",
      "Epoch 38/50\n",
      "39/39 [==============================] - 0s 2ms/step - loss: 0.6366 - accuracy: 0.7018\n",
      "Epoch 39/50\n",
      "39/39 [==============================] - 0s 2ms/step - loss: 0.6409 - accuracy: 0.6836\n",
      "Epoch 40/50\n",
      "39/39 [==============================] - 0s 2ms/step - loss: 0.6187 - accuracy: 0.7214\n",
      "Epoch 41/50\n",
      "39/39 [==============================] - 0s 2ms/step - loss: 0.6046 - accuracy: 0.7148\n",
      "Epoch 42/50\n",
      "39/39 [==============================] - 0s 2ms/step - loss: 0.6247 - accuracy: 0.7109\n",
      "Epoch 43/50\n",
      "39/39 [==============================] - 0s 2ms/step - loss: 0.6408 - accuracy: 0.6732\n",
      "Epoch 44/50\n",
      "39/39 [==============================] - 0s 2ms/step - loss: 0.6181 - accuracy: 0.7018\n",
      "Epoch 45/50\n",
      "39/39 [==============================] - 0s 2ms/step - loss: 0.6047 - accuracy: 0.7174\n",
      "Epoch 46/50\n",
      "39/39 [==============================] - 0s 3ms/step - loss: 0.6431 - accuracy: 0.6927\n",
      "Epoch 47/50\n",
      "39/39 [==============================] - 0s 2ms/step - loss: 0.5996 - accuracy: 0.7266\n",
      "Epoch 48/50\n",
      "39/39 [==============================] - 0s 2ms/step - loss: 0.6029 - accuracy: 0.7122\n",
      "Epoch 49/50\n",
      "39/39 [==============================] - 0s 2ms/step - loss: 0.6005 - accuracy: 0.7135\n",
      "Epoch 50/50\n",
      "39/39 [==============================] - 0s 2ms/step - loss: 0.6144 - accuracy: 0.6927\n"
     ]
    }
   ],
   "source": [
    "parameter_grid = dict(batch_size=batchSize, epochs=epochs)\n",
    "mygrid = GridSearchCV(estimator=model, param_grid=parameter_grid, n_jobs=-1, cv=5)\n",
    "grid_result = mygrid.fit(X, Y)"
   ]
  },
  {
   "cell_type": "code",
   "execution_count": null,
   "metadata": {},
   "outputs": [],
   "source": []
  },
  {
   "cell_type": "code",
   "execution_count": 15,
   "metadata": {},
   "outputs": [
    {
     "name": "stdout",
     "output_type": "stream",
     "text": [
      "Best: 0.695399 using {'batch_size': 20, 'epochs': 50}\n"
     ]
    }
   ],
   "source": [
    "# summarize results\n",
    "print(\"Best: %f using %s\" % (grid_result.best_score_, grid_result.best_params_))"
   ]
  },
  {
   "cell_type": "markdown",
   "metadata": {},
   "source": [
    "# part 2- Optimizing optimizer"
   ]
  },
  {
   "cell_type": "code",
   "execution_count": 16,
   "metadata": {},
   "outputs": [],
   "source": [
    "# Function to create model\n",
    "def create_my_model(optimizer='adam'):\n",
    "    # create model\n",
    "    mymodel = Sequential()\n",
    "    mymodel.add(Dense(12, input_dim=8, activation='relu'))\n",
    "    mymodel.add(Dense(1, activation='sigmoid'))\n",
    "    # Compile model\n",
    "    mymodel.compile(loss='binary_crossentropy', optimizer=optimizer, metrics=['accuracy'])\n",
    "    return mymodel"
   ]
  },
  {
   "cell_type": "code",
   "execution_count": 17,
   "metadata": {},
   "outputs": [],
   "source": [
    "# create model\n",
    "model = KerasClassifier(build_fn=create_my_model, epochs=50, batch_size=10)"
   ]
  },
  {
   "cell_type": "code",
   "execution_count": 19,
   "metadata": {},
   "outputs": [],
   "source": [
    "# define the grid search parameters\n",
    "optimizer = ['SGD','Adadelta', 'RMSprop', 'Adagrad','Adam']\n",
    "parameter_grid = dict(optimizer=optimizer)"
   ]
  },
  {
   "cell_type": "code",
   "execution_count": 20,
   "metadata": {},
   "outputs": [
    {
     "name": "stdout",
     "output_type": "stream",
     "text": [
      "Epoch 1/50\n",
      "77/77 [==============================] - 1s 2ms/step - loss: 19.5421 - accuracy: 0.3763\n",
      "Epoch 2/50\n",
      "77/77 [==============================] - 0s 2ms/step - loss: 5.0848 - accuracy: 0.5221\n",
      "Epoch 3/50\n",
      "77/77 [==============================] - 0s 2ms/step - loss: 2.4248 - accuracy: 0.5677\n",
      "Epoch 4/50\n",
      "77/77 [==============================] - 0s 2ms/step - loss: 1.8633 - accuracy: 0.5729\n",
      "Epoch 5/50\n",
      "77/77 [==============================] - 0s 2ms/step - loss: 1.5677 - accuracy: 0.5729\n",
      "Epoch 6/50\n",
      "77/77 [==============================] - 0s 2ms/step - loss: 1.3903 - accuracy: 0.5807\n",
      "Epoch 7/50\n",
      "77/77 [==============================] - 0s 2ms/step - loss: 1.2518 - accuracy: 0.5885\n",
      "Epoch 8/50\n",
      "77/77 [==============================] - 0s 2ms/step - loss: 1.1127 - accuracy: 0.5990\n",
      "Epoch 9/50\n",
      "77/77 [==============================] - 0s 3ms/step - loss: 1.0095 - accuracy: 0.6133\n",
      "Epoch 10/50\n",
      "77/77 [==============================] - 0s 2ms/step - loss: 0.9317 - accuracy: 0.6393\n",
      "Epoch 11/50\n",
      "77/77 [==============================] - 0s 2ms/step - loss: 0.8813 - accuracy: 0.6380\n",
      "Epoch 12/50\n",
      "77/77 [==============================] - 0s 2ms/step - loss: 0.8387 - accuracy: 0.6602\n",
      "Epoch 13/50\n",
      "77/77 [==============================] - 0s 2ms/step - loss: 0.8176 - accuracy: 0.6602\n",
      "Epoch 14/50\n",
      "77/77 [==============================] - 0s 2ms/step - loss: 0.7874 - accuracy: 0.6732\n",
      "Epoch 15/50\n",
      "77/77 [==============================] - 0s 2ms/step - loss: 0.7997 - accuracy: 0.6680\n",
      "Epoch 16/50\n",
      "77/77 [==============================] - 0s 2ms/step - loss: 0.7757 - accuracy: 0.6641\n",
      "Epoch 17/50\n",
      "77/77 [==============================] - 0s 2ms/step - loss: 0.7582 - accuracy: 0.6719\n",
      "Epoch 18/50\n",
      "77/77 [==============================] - 0s 2ms/step - loss: 0.7580 - accuracy: 0.6510\n",
      "Epoch 19/50\n",
      "77/77 [==============================] - 0s 2ms/step - loss: 0.7268 - accuracy: 0.6888\n",
      "Epoch 20/50\n",
      "77/77 [==============================] - 0s 2ms/step - loss: 0.7351 - accuracy: 0.6615\n",
      "Epoch 21/50\n",
      "77/77 [==============================] - 0s 2ms/step - loss: 0.7311 - accuracy: 0.6628\n",
      "Epoch 22/50\n",
      "77/77 [==============================] - 0s 2ms/step - loss: 0.6896 - accuracy: 0.6966\n",
      "Epoch 23/50\n",
      "77/77 [==============================] - 0s 2ms/step - loss: 0.7117 - accuracy: 0.6706\n",
      "Epoch 24/50\n",
      "77/77 [==============================] - 0s 2ms/step - loss: 0.6881 - accuracy: 0.6823\n",
      "Epoch 25/50\n",
      "77/77 [==============================] - 0s 2ms/step - loss: 0.6867 - accuracy: 0.6797\n",
      "Epoch 26/50\n",
      "77/77 [==============================] - 0s 2ms/step - loss: 0.6885 - accuracy: 0.6875\n",
      "Epoch 27/50\n",
      "77/77 [==============================] - 0s 2ms/step - loss: 0.6627 - accuracy: 0.7044\n",
      "Epoch 28/50\n",
      "77/77 [==============================] - 0s 2ms/step - loss: 0.6831 - accuracy: 0.6901\n",
      "Epoch 29/50\n",
      "77/77 [==============================] - 0s 2ms/step - loss: 0.6657 - accuracy: 0.6849\n",
      "Epoch 30/50\n",
      "77/77 [==============================] - 0s 2ms/step - loss: 0.7009 - accuracy: 0.6810\n",
      "Epoch 31/50\n",
      "77/77 [==============================] - 0s 2ms/step - loss: 0.6918 - accuracy: 0.6784\n",
      "Epoch 32/50\n",
      "77/77 [==============================] - 0s 2ms/step - loss: 0.6618 - accuracy: 0.6966\n",
      "Epoch 33/50\n",
      "77/77 [==============================] - 0s 2ms/step - loss: 0.6788 - accuracy: 0.6797\n",
      "Epoch 34/50\n",
      "77/77 [==============================] - 0s 2ms/step - loss: 0.6610 - accuracy: 0.6836\n",
      "Epoch 35/50\n",
      "77/77 [==============================] - 0s 2ms/step - loss: 0.6676 - accuracy: 0.6979\n",
      "Epoch 36/50\n",
      "77/77 [==============================] - 0s 2ms/step - loss: 0.6378 - accuracy: 0.6940\n",
      "Epoch 37/50\n",
      "77/77 [==============================] - 0s 2ms/step - loss: 0.6441 - accuracy: 0.7109\n",
      "Epoch 38/50\n",
      "77/77 [==============================] - 0s 2ms/step - loss: 0.6427 - accuracy: 0.6940\n",
      "Epoch 39/50\n",
      "77/77 [==============================] - 0s 2ms/step - loss: 0.6544 - accuracy: 0.6836\n",
      "Epoch 40/50\n",
      "77/77 [==============================] - 0s 2ms/step - loss: 0.6623 - accuracy: 0.6979\n",
      "Epoch 41/50\n",
      "77/77 [==============================] - 0s 2ms/step - loss: 0.6302 - accuracy: 0.7148\n",
      "Epoch 42/50\n",
      "77/77 [==============================] - 0s 2ms/step - loss: 0.6324 - accuracy: 0.7070\n",
      "Epoch 43/50\n",
      "77/77 [==============================] - 0s 2ms/step - loss: 0.6169 - accuracy: 0.7201\n",
      "Epoch 44/50\n",
      "77/77 [==============================] - 0s 2ms/step - loss: 0.6727 - accuracy: 0.6836\n",
      "Epoch 45/50\n",
      "77/77 [==============================] - 0s 2ms/step - loss: 0.6335 - accuracy: 0.7044\n",
      "Epoch 46/50\n",
      "77/77 [==============================] - 0s 2ms/step - loss: 0.6409 - accuracy: 0.6862\n",
      "Epoch 47/50\n",
      "77/77 [==============================] - 0s 2ms/step - loss: 0.6144 - accuracy: 0.6966\n",
      "Epoch 48/50\n",
      "77/77 [==============================] - 0s 2ms/step - loss: 0.6240 - accuracy: 0.7057\n",
      "Epoch 49/50\n",
      "77/77 [==============================] - 0s 2ms/step - loss: 0.6355 - accuracy: 0.7031\n",
      "Epoch 50/50\n",
      "77/77 [==============================] - 0s 2ms/step - loss: 0.6326 - accuracy: 0.6888\n"
     ]
    }
   ],
   "source": [
    "grid = GridSearchCV(estimator=model, param_grid=parameter_grid, n_jobs=-1, cv=3)\n",
    "grid_result = grid.fit(X, Y)"
   ]
  },
  {
   "cell_type": "code",
   "execution_count": 21,
   "metadata": {},
   "outputs": [
    {
     "name": "stdout",
     "output_type": "stream",
     "text": [
      "Best: 0.677083 using {'optimizer': 'RMSprop'}\n"
     ]
    }
   ],
   "source": [
    "# summarize results\n",
    "print(\"Best: %f using %s\" % (grid_result.best_score_, grid_result.best_params_))"
   ]
  },
  {
   "cell_type": "code",
   "execution_count": null,
   "metadata": {},
   "outputs": [],
   "source": []
  }
 ],
 "metadata": {
  "kernelspec": {
   "display_name": "Python 3 (ipykernel)",
   "language": "python",
   "name": "python3"
  },
  "language_info": {
   "codemirror_mode": {
    "name": "ipython",
    "version": 3
   },
   "file_extension": ".py",
   "mimetype": "text/x-python",
   "name": "python",
   "nbconvert_exporter": "python",
   "pygments_lexer": "ipython3",
   "version": "3.9.7"
  }
 },
 "nbformat": 4,
 "nbformat_minor": 4
}
